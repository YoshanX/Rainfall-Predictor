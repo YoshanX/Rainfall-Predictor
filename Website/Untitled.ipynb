{
 "cells": [
  {
   "cell_type": "code",
   "execution_count": 2,
   "id": "958cde28-2656-4289-9eaa-d8fde54d7c89",
   "metadata": {},
   "outputs": [
    {
     "name": "stdout",
     "output_type": "stream",
     "text": [
      "<class 'dict'>\n",
      "{'model': RandomForestClassifier(max_depth=10, n_estimators=50, random_state=42), 'features_names': ['pressure', 'dewpoint', 'humidity', 'cloud', 'sunshine', 'winddirection', 'windspeed']}\n"
     ]
    }
   ],
   "source": [
    "import pickle\n",
    "\n",
    "with open('model/model.pkl', 'rb') as file:\n",
    "    model = pickle.load(file)\n",
    "\n",
    "print(type(model))  # Check the type of the loaded object\n",
    "print(model) \n"
   ]
  },
  {
   "cell_type": "code",
   "execution_count": null,
   "id": "c7c3e4ee-25a1-4ae4-b6e0-bc7eb7c3849e",
   "metadata": {},
   "outputs": [],
   "source": []
  }
 ],
 "metadata": {
  "kernelspec": {
   "display_name": "Python 3 (ipykernel)",
   "language": "python",
   "name": "python3"
  },
  "language_info": {
   "codemirror_mode": {
    "name": "ipython",
    "version": 3
   },
   "file_extension": ".py",
   "mimetype": "text/x-python",
   "name": "python",
   "nbconvert_exporter": "python",
   "pygments_lexer": "ipython3",
   "version": "3.13.0"
  }
 },
 "nbformat": 4,
 "nbformat_minor": 5
}
